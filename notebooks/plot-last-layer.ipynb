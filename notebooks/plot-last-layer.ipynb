{
 "cells": [
  {
   "cell_type": "code",
   "execution_count": null,
   "metadata": {},
   "outputs": [],
   "source": [
    "from notebooks_utils import *"
   ]
  },
  {
   "cell_type": "markdown",
   "metadata": {},
   "source": [
    "# Plot IE for the layers at the end of the sequence."
   ]
  },
  {
   "cell_type": "code",
   "execution_count": null,
   "metadata": {},
   "outputs": [],
   "source": [
    "model_name = 'EleutherAI/gpt-j-6B'\n",
    "intervention = 1\n",
    "seed= '1'\n",
    "max_n = 300\n",
    "examples_n = 5\n",
    "n_shots=2\n",
    "\n",
    "path_prefix = '../out'\n",
    "\n",
    "split_ops = False\n",
    "\n",
    "path = f'{path_prefix}/{model_name}/n_operands2/template_typeall'\n",
    "path += f'/max_n{max_n}/n_shots{n_shots}/examples_n{examples_n}/seed{seed}/'\n",
    "path += f'intervention_{intervention}_indirect_layer.feather'\n",
    "\n",
    "df, layer_aggregated = load_df(path, split_operators=split_ops, accuracy_filter=None)\n",
    "\n",
    "plot_layer_aggregated(layer_aggregated, split_operators=split_ops,\n",
    "                      color=(50 / 256, 70 / 256, 148 / 256), figsize=(5,3), \n",
    "                      title='IE of Last-token MLPs',)\n",
    "plt.tight_layout(pad=0)"
   ]
  },
  {
   "cell_type": "code",
   "execution_count": null,
   "metadata": {},
   "outputs": [],
   "source": [
    "plot_pred_change(df, type='both')"
   ]
  }
 ],
 "metadata": {
  "kernelspec": {
   "display_name": "Python 3",
   "language": "python",
   "name": "python3"
  },
  "language_info": {
   "codemirror_mode": {
    "name": "ipython",
    "version": 3
   },
   "file_extension": ".py",
   "mimetype": "text/x-python",
   "name": "python",
   "nbconvert_exporter": "python",
   "pygments_lexer": "ipython3",
   "version": "3.8.5"
  }
 },
 "nbformat": 4,
 "nbformat_minor": 4
}
